{
 "cells": [
  {
   "cell_type": "code",
   "execution_count": 1,
   "id": "4ea80a8e-4275-4b6c-bddc-b0eb80d3e67a",
   "metadata": {},
   "outputs": [],
   "source": [
    "import pandas as pd\n",
    "import numpy as np\n",
    "import os\n",
    "import ast\n",
    "\n",
    "import matplotlib.pyplot as plt\n",
    "from sklearn.metrics import mean_squared_error\n",
    "from sklearn.metrics import r2_score\n",
    "\n",
    "import plotly.express as px\n",
    "import plotly.graph_objects as go"
   ]
  },
  {
   "cell_type": "code",
   "execution_count": 2,
   "id": "3dcf7955-ebf8-407a-af37-bc8bf4f1c4e7",
   "metadata": {},
   "outputs": [
    {
     "data": {
      "text/plain": [
       "'/domino/datasets/local/Sol_pred_Jiaxi/data_processing'"
      ]
     },
     "execution_count": 2,
     "metadata": {},
     "output_type": "execute_result"
    }
   ],
   "source": [
    "root = os.path.abspath('')"
   ]
  },
  {
   "cell_type": "code",
   "execution_count": 6,
   "id": "042d89ce-0413-4588-bf6e-72bc107f49e2",
   "metadata": {},
   "outputs": [
    {
     "name": "stdout",
     "output_type": "stream",
     "text": [
      "#ph2: 12184 \n",
      "#ph7: 14026\n"
     ]
    }
   ],
   "source": [
    "ph2 = pd.read_csv(os.path.join(root, 'your/ph2/data/.csv'))\n",
    "ph7 = pd.read_csv(os.path.join(root, 'your/ph7/data/.csv.csv'))\n",
    "reduce = True\n",
    "print('#ph2:', len(ph2),\n",
    "     '\\n#ph7:', len(ph7))"
   ]
  },
  {
   "cell_type": "code",
   "execution_count": 7,
   "id": "eb3afa95-f1a2-473d-bbb3-062a5a9b3f67",
   "metadata": {},
   "outputs": [],
   "source": [
    "def cal_log_sol_and_str_to_list(df):\n",
    "    df['sol_log_M']= np.log10(df['solubility_uM']/1000000)\n",
    "    df['basic_pka'] = df['basic_pka'].apply(ast.literal_eval)\n",
    "    df['acidic_pka'] = df['acidic_pka'].apply(ast.literal_eval)\n",
    "    return df\n",
    "\n",
    "ph2 = cal_log_sol_and_str_to_list(ph2)\n",
    "ph7 = cal_log_sol_and_str_to_list(ph7)"
   ]
  },
  {
   "cell_type": "code",
   "execution_count": 8,
   "id": "0083989f-1ef2-4e18-9181-db1077682bf4",
   "metadata": {},
   "outputs": [],
   "source": [
    "def reduce_pka(ph2, ph7):\n",
    "    if reduce == True:\n",
    "        ph2['acidic_pka'] = ph2['acidic_pka'].apply(lambda x: [i for i in x if i < 4])\n",
    "        ph2['basic_pka'] = ph2['basic_pka'].apply(lambda x: [i for i in x if i > 0])\n",
    "        \n",
    "        ph7['acidic_pka'] = ph7['acidic_pka'].apply(lambda x: [i for i in x if i < 9])\n",
    "        ph7['basic_pka'] = ph7['basic_pka'].apply(lambda x: [i for i in x if i > 5])\n",
    "        return ph2, ph7\n",
    "    else:\n",
    "        return ph2, ph7\n",
    "\n",
    "ph2, ph7 = reduce_pka(ph2, ph7)"
   ]
  },
  {
   "cell_type": "code",
   "execution_count": 9,
   "id": "3b86116e-7526-4c67-9a47-e855f6212e68",
   "metadata": {},
   "outputs": [
    {
     "name": "stdout",
     "output_type": "stream",
     "text": [
      "ph2_acid: 47\n",
      "ph2_base: 10740\n",
      "ph2_amphoteric: 243\n",
      "ph2_neutral: 1154\n",
      "\n",
      "ph7_acid: 880\n",
      "ph7_base: 4435\n",
      "ph7_amphoteric: 209\n",
      "ph7_neutral: 8502\n"
     ]
    }
   ],
   "source": [
    "def seperate(df):\n",
    "    pred_acid = df[df['basic_pka'].apply(lambda x: len(x) == 0) & df['acidic_pka'].apply(lambda x: len(x) > 0)]\n",
    "    pred_base = df[df['basic_pka'].apply(lambda x: len(x) > 0) & df['acidic_pka'].apply(lambda x: len(x) == 0)]\n",
    "    pred_amphoteric = df[df['basic_pka'].apply(lambda x: len(x) > 0) & df['acidic_pka'].apply(lambda x: len(x) > 0)]\n",
    "    pred_neutral = df[df['basic_pka'].apply(lambda x: len(x) == 0) & df['acidic_pka'].apply(lambda x: len(x) == 0)]\n",
    "    return pred_acid, pred_base, pred_amphoteric, pred_neutral\n",
    "\n",
    "ph2_acid, ph2_base, ph2_amphoteric, ph2_neutral = seperate(ph2)\n",
    "ph7_acid, ph7_base, ph7_amphoteric, ph7_neutral = seperate(ph7)\n",
    "\n",
    "print(\"ph2_acid:\", len(ph2_acid))\n",
    "print(\"ph2_base:\", len(ph2_base))\n",
    "print(\"ph2_amphoteric:\", len(ph2_amphoteric))\n",
    "print(\"ph2_neutral:\", len(ph2_neutral))\n",
    "\n",
    "print(\"\\nph7_acid:\", len(ph7_acid))\n",
    "print(\"ph7_base:\", len(ph7_base))\n",
    "print(\"ph7_amphoteric:\", len(ph7_amphoteric))\n",
    "print(\"ph7_neutral:\", len(ph7_neutral))"
   ]
  },
  {
   "cell_type": "code",
   "execution_count": 10,
   "id": "7db88964-5407-4682-ac24-ba8d27dabdc7",
   "metadata": {},
   "outputs": [],
   "source": [
    "def pka_3(acid, base, amphoteric):\n",
    "    base_3pka = base[base['basic_pka'].apply(len) <= 3]\n",
    "    acid_3pka = acid[acid['acidic_pka'].apply(len) <= 3]\n",
    "    amphoteric['total_pka'] = amphoteric['acidic_pka'].apply(len) + amphoteric['basic_pka'].apply(len)\n",
    "    amphoteric_3pka = amphoteric[amphoteric['total_pka'] <= 3]\n",
    "    print('base_3pka:', len(base_3pka))\n",
    "    print('acid_3pka:', len(acid_3pka))\n",
    "    print('amphoteric_3pk:', len(amphoteric_3pka))\n",
    "    return acid_3pka, base_3pka, amphoteric_3pka"
   ]
  },
  {
   "cell_type": "code",
   "execution_count": 11,
   "id": "6076b543-393e-4caa-92cb-29500753ecaa",
   "metadata": {},
   "outputs": [
    {
     "name": "stdout",
     "output_type": "stream",
     "text": [
      "base_3pka: 4434\n",
      "acid_3pka: 879\n",
      "amphoteric_3pk: 208\n"
     ]
    },
    {
     "name": "stderr",
     "output_type": "stream",
     "text": [
      "/tmp/ipykernel_6188/113062135.py:4: SettingWithCopyWarning: \n",
      "A value is trying to be set on a copy of a slice from a DataFrame.\n",
      "Try using .loc[row_indexer,col_indexer] = value instead\n",
      "\n",
      "See the caveats in the documentation: https://pandas.pydata.org/pandas-docs/stable/user_guide/indexing.html#returning-a-view-versus-a-copy\n",
      "  amphoteric['total_pka'] = amphoteric['acidic_pka'].apply(len) + amphoteric['basic_pka'].apply(len)\n"
     ]
    }
   ],
   "source": [
    "ph7_acid_pka_3, ph7_base_pka_3, ph7_amphoteric_pka_3 = pka_3(ph7_acid, ph7_base, ph7_amphoteric)"
   ]
  },
  {
   "cell_type": "code",
   "execution_count": 12,
   "id": "fe298e1e-cf98-4425-8eee-990c1e7e4955",
   "metadata": {},
   "outputs": [
    {
     "name": "stdout",
     "output_type": "stream",
     "text": [
      "base_3pka: 9154\n",
      "acid_3pka: 47\n",
      "amphoteric_3pk: 155\n"
     ]
    },
    {
     "name": "stderr",
     "output_type": "stream",
     "text": [
      "/tmp/ipykernel_6188/113062135.py:4: SettingWithCopyWarning: \n",
      "A value is trying to be set on a copy of a slice from a DataFrame.\n",
      "Try using .loc[row_indexer,col_indexer] = value instead\n",
      "\n",
      "See the caveats in the documentation: https://pandas.pydata.org/pandas-docs/stable/user_guide/indexing.html#returning-a-view-versus-a-copy\n",
      "  amphoteric['total_pka'] = amphoteric['acidic_pka'].apply(len) + amphoteric['basic_pka'].apply(len)\n"
     ]
    }
   ],
   "source": [
    "ph2_acid_pka_3, ph2_base_pka_3, ph2_amphoteric_pka_3 = pka_3(ph2_acid, ph2_base, ph2_amphoteric)"
   ]
  },
  {
   "cell_type": "code",
   "execution_count": 13,
   "id": "ce3ec890-9157-49aa-9a77-3dc623fe887e",
   "metadata": {},
   "outputs": [],
   "source": [
    "def ph7_base_intrinsic_sol_cal(row):\n",
    "    pka = row['basic_pka']\n",
    "    sol = row['solubility_uM']\n",
    "    if len(pka) == 1:\n",
    "        pka1 = pka[0]\n",
    "        return np.log10(sol/1000000) - np.log10(10**(+pka1 - 7) + 1)\n",
    "    elif len(pka) == 2:\n",
    "        pka1 = pka[0]\n",
    "        pka2 = pka[1]\n",
    "        return np.log10(sol/1000000) - np.log10(10**(+pka2 + pka1 - 2*7) + 10**(+pka2 - 7) + 1)\n",
    "    elif len(pka) == 3:\n",
    "        pka1 = pka[0]\n",
    "        pka2 = pka[1]\n",
    "        pka3 = pka[2]\n",
    "        return np.log10(sol/1000000) - np.log10(10**(pka3 +pka2 + pka1 - 3*7) + 10**(+pka3 + pka2 - 2*7) + 10**(+pka3 - 7) + 1)\n",
    "\n",
    "\n",
    "def ph7_acid_intrinsic_sol_cal(row):\n",
    "    pka = row['acidic_pka']\n",
    "    sol = row['solubility_uM']\n",
    "    if len(pka) == 1:\n",
    "        pka1 = pka[0]\n",
    "        return np.log10(sol/1000000) - np.log10(10**(-pka1 + 7) + 1)\n",
    "    elif len(pka) == 2:\n",
    "        pka1 = pka[0]\n",
    "        pka2 = pka[1]\n",
    "        return np.log10(sol/1000000) - np.log10(10**(-pka2 - pka1 + 2*7) + 10**(- pka2 + 7) + 1)\n",
    "    elif len(pka) == 3:\n",
    "        pka1 = pka[0]\n",
    "        pka2 = pka[1]\n",
    "        pka3 = pka[2]\n",
    "        return np.log10(sol/1000000) - np.log10(10**(- pka3 - pka2 - pka1 + 3*7) + 10**(- pka2 - pka1 + 2*7) + 10**(- pka1 + 7) + 1)\n",
    "\n",
    "def ph7_amphoteric_intrinsic_sol_cal(row):\n",
    "    pka_acid = row['acidic_pka']\n",
    "    pka_base = row['basic_pka']\n",
    "    sol = row['solubility_uM']\n",
    "    \n",
    "    if len(pka_acid) == 1 and len(pka_base) == 1:\n",
    "        pka1 = pka_base[0]\n",
    "        pka2 = pka_acid[0]\n",
    "        return np.log10(sol/1000000) - np.log10(10**(+ pka1 - 7) + 10**(- pka2 + 7) + 1)\n",
    "    elif len(pka_acid) == 1 and len(pka_base) == 2:\n",
    "        pka1 = pka_base[0]\n",
    "        pka2 = pka_base[1]\n",
    "        pka3 = pka_acid[0]\n",
    "        return np.log10(sol/1000000) - np.log10(10**(+ pka2 + pka1 - 2*7) + 10**(+ pka2 - 7) + 10**(- pka3 + 7) + 1)\n",
    "    elif len(pka_acid) == 2 and len(pka_base) == 1:\n",
    "        pka1 = pka_base[0]\n",
    "        pka2 = pka_acid[0]\n",
    "        pka3 = pka_acid[1]\n",
    "        return np.log10(sol/1000000) - np.log10(10**(- pka3 - pka2 + 2*7) + 10**(- pka2 + 7) + 10**(+ pka1 - 7) + 1)"
   ]
  },
  {
   "cell_type": "code",
   "execution_count": 14,
   "id": "20880046-698d-4fdd-bf0c-0ae8da5a8575",
   "metadata": {},
   "outputs": [],
   "source": [
    "def ph2_base_intrinsic_sol_cal(row):\n",
    "    pka = row['basic_pka']\n",
    "    sol = row['solubility_uM']\n",
    "    if len(pka) == 1:\n",
    "        pka1 = pka[0]\n",
    "        return np.log10(sol/1000000) - np.log10(10**(+pka1 - 2) + 1)\n",
    "    elif len(pka) == 2:\n",
    "        pka1 = pka[0]\n",
    "        pka2 = pka[1]\n",
    "        return np.log10(sol/1000000) - np.log10(10**(+pka2 + pka1 - 2*2) + 10**(+pka2 - 2) + 1)\n",
    "    elif len(pka) == 3:\n",
    "        pka1 = pka[0]\n",
    "        pka2 = pka[1]\n",
    "        pka3 = pka[2]\n",
    "        return np.log10(sol/1000000) - np.log10(10**(pka3 +pka2 + pka1 - 3*2) + 10**(+pka3 + pka2 - 2*2) + 10**(+pka3 - 2) + 1)\n",
    "\n",
    "\n",
    "def ph2_acid_intrinsic_sol_cal(row):\n",
    "    pka = row['acidic_pka']\n",
    "    sol = row['solubility_uM']\n",
    "    if len(pka) == 1:\n",
    "        pka1 = pka[0]\n",
    "        return np.log10(sol/1000000) - np.log10(10**(-pka1 + 2) + 1)\n",
    "    elif len(pka) == 2:\n",
    "        pka1 = pka[0]\n",
    "        pka2 = pka[1]\n",
    "        return np.log10(sol/1000000) - np.log10(10**(-pka2 - pka1 + 2*2) + 10**(- pka2 + 2) + 1)\n",
    "    elif len(pka) == 3:\n",
    "        pka1 = pka[0]\n",
    "        pka2 = pka[1]\n",
    "        pka3 = pka[2]\n",
    "        return np.log10(sol/1000000) - np.log10(10**(- pka3 - pka2 - pka1 + 3*2) + 10**(- pka2 - pka1 + 2*2) + 10**(- pka1 + 2) + 1)\n",
    "\n",
    "def ph2_amphoteric_intrinsic_sol_cal(row):\n",
    "    pka_acid = row['acidic_pka']\n",
    "    pka_base = row['basic_pka']\n",
    "    sol = row['solubility_uM']\n",
    "    \n",
    "    if len(pka_acid) == 1 and len(pka_base) == 1:\n",
    "        pka1 = pka_base[0]\n",
    "        pka2 = pka_acid[0]\n",
    "        return np.log10(sol/1000000) - np.log10(10**(+ pka1 - 2) + 10**(- pka2 + 2) + 1)\n",
    "    elif len(pka_acid) == 1 and len(pka_base) == 2:\n",
    "        pka1 = pka_base[0]\n",
    "        pka2 = pka_base[1]\n",
    "        pka3 = pka_acid[0]\n",
    "        return np.log10(sol/1000000) - np.log10(10**(+ pka2 + pka1 - 2*2) + 10**(+ pka2 - 2) + 10**(- pka3 + 2) + 1)\n",
    "    elif len(pka_acid) == 2 and len(pka_base) == 1:\n",
    "        pka1 = pka_base[0]\n",
    "        pka2 = pka_acid[0]\n",
    "        pka3 = pka_acid[1]\n",
    "        return np.log10(sol/1000000) - np.log10(10**(- pka3 - pka2 + 2*2) + 10**(- pka2 + 2) + 10**(+ pka1 - 2) + 1)"
   ]
  },
  {
   "cell_type": "code",
   "execution_count": 15,
   "id": "f0acdc25-73c9-42c3-9af6-d631bbc94ebe",
   "metadata": {},
   "outputs": [],
   "source": [
    "def ph7_base_intrinsic_cat(row):\n",
    "    pka = row['basic_pka']\n",
    "    if len(pka) == 1:\n",
    "        return 'base_1'\n",
    "    elif len(pka) == 2:\n",
    "        return 'base_2'\n",
    "    elif len(pka) == 3:\n",
    "        return 'base_3'\n",
    "\n",
    "def ph7_acid_intrinsic_cat(row):\n",
    "    pka = row['acidic_pka']\n",
    "    if len(pka) == 1:\n",
    "        return 'acid_1'\n",
    "    elif len(pka) == 2:\n",
    "        return 'acid_2'\n",
    "    elif len(pka) == 3:\n",
    "        return 'acid_3'\n",
    "\n",
    "def ph7_amphoteric_intrinsic_cat(row):\n",
    "    pka_acid = row['acidic_pka']\n",
    "    pka_base = row['basic_pka']\n",
    "    \n",
    "    if len(pka_acid) == 1 and len(pka_base) == 1:\n",
    "        return 'acid_1_base_1'\n",
    "    elif len(pka_acid) == 1 and len(pka_base) == 2:\n",
    "        return 'acid_1_base_2'\n",
    "    elif len(pka_acid) == 2 and len(pka_base) == 1:\n",
    "        return 'acid_2_base_1'"
   ]
  },
  {
   "cell_type": "code",
   "execution_count": 16,
   "id": "b3b1d779-9433-4d68-a365-1795872d09f4",
   "metadata": {},
   "outputs": [],
   "source": [
    "def ph2_base_intrinsic_cat(row):\n",
    "    pka = row['basic_pka']\n",
    "    if len(pka) == 1:\n",
    "        return 'base_1'\n",
    "    elif len(pka) == 2:\n",
    "        return 'base_2'\n",
    "    elif len(pka) == 3:\n",
    "        return 'base_3'\n",
    "\n",
    "\n",
    "def ph2_acid_intrinsic_cat(row):\n",
    "    pka = row['acidic_pka']\n",
    "    if len(pka) == 1:\n",
    "        return 'acid_1'\n",
    "    elif len(pka) == 2:\n",
    "        return 'acid_2'\n",
    "    elif len(pka) == 3:\n",
    "        return 'acid_3'\n",
    "\n",
    "def ph2_amphoteric_intrinsic_cat(row):\n",
    "    pka_acid = row['acidic_pka']\n",
    "    pka_base = row['basic_pka']\n",
    "    \n",
    "    if len(pka_acid) == 1 and len(pka_base) == 1:\n",
    "        return 'acid_1_base_1'\n",
    "    elif len(pka_acid) == 1 and len(pka_base) == 2:\n",
    "        return 'acid_1_base_2'\n",
    "    elif len(pka_acid) == 2 and len(pka_base) == 1:\n",
    "        return 'acid_2_base_1'"
   ]
  },
  {
   "cell_type": "code",
   "execution_count": 17,
   "id": "500cc3e8-2a11-4274-8bf9-292c1ee4e72f",
   "metadata": {},
   "outputs": [],
   "source": [
    "def calculate_intrinsic_solubility(acid_3pka, base_3pka, amphoteric_3pka,ph):\n",
    "    if ph == 7: \n",
    "        amphoteric_3pka['S0'] = amphoteric_3pka.apply(ph7_amphoteric_intrinsic_sol_cal, axis=1)\n",
    "        base_3pka['S0'] = base_3pka.apply(ph7_base_intrinsic_sol_cal, axis=1)\n",
    "        acid_3pka['S0'] = acid_3pka.apply(ph7_acid_intrinsic_sol_cal, axis=1)\n",
    "        amphoteric_3pka['cat'] = amphoteric_3pka.apply(ph7_amphoteric_intrinsic_cat, axis=1)\n",
    "        base_3pka['cat'] = base_3pka.apply(ph7_base_intrinsic_cat, axis=1)\n",
    "        acid_3pka['cat'] = acid_3pka.apply(ph7_acid_intrinsic_cat, axis=1)\n",
    "    elif ph == 2:\n",
    "        amphoteric_3pka['S0'] = amphoteric_3pka.apply(ph2_amphoteric_intrinsic_sol_cal, axis=1)\n",
    "        base_3pka['S0'] = base_3pka.apply(ph2_base_intrinsic_sol_cal, axis=1)\n",
    "        acid_3pka['S0'] = acid_3pka.apply(ph2_acid_intrinsic_sol_cal, axis=1)\n",
    "        amphoteric_3pka['cat'] = amphoteric_3pka.apply(ph2_amphoteric_intrinsic_cat, axis=1)\n",
    "        base_3pka['cat'] = base_3pka.apply(ph2_base_intrinsic_cat, axis=1)\n",
    "        acid_3pka['cat'] = acid_3pka.apply(ph2_acid_intrinsic_cat, axis=1)\n",
    "        \n",
    "    return acid_3pka, base_3pka, amphoteric_3pka"
   ]
  },
  {
   "cell_type": "code",
   "execution_count": 18,
   "id": "30cc1697-61e0-4eeb-bb14-4ed47e7100cb",
   "metadata": {},
   "outputs": [
    {
     "name": "stderr",
     "output_type": "stream",
     "text": [
      "/tmp/ipykernel_6188/1509842123.py:3: SettingWithCopyWarning: \n",
      "A value is trying to be set on a copy of a slice from a DataFrame.\n",
      "Try using .loc[row_indexer,col_indexer] = value instead\n",
      "\n",
      "See the caveats in the documentation: https://pandas.pydata.org/pandas-docs/stable/user_guide/indexing.html#returning-a-view-versus-a-copy\n",
      "  amphoteric_3pka['S0'] = amphoteric_3pka.apply(ph7_amphoteric_intrinsic_sol_cal, axis=1)\n",
      "/tmp/ipykernel_6188/1509842123.py:4: SettingWithCopyWarning: \n",
      "A value is trying to be set on a copy of a slice from a DataFrame.\n",
      "Try using .loc[row_indexer,col_indexer] = value instead\n",
      "\n",
      "See the caveats in the documentation: https://pandas.pydata.org/pandas-docs/stable/user_guide/indexing.html#returning-a-view-versus-a-copy\n",
      "  base_3pka['S0'] = base_3pka.apply(ph7_base_intrinsic_sol_cal, axis=1)\n",
      "/tmp/ipykernel_6188/1509842123.py:5: SettingWithCopyWarning: \n",
      "A value is trying to be set on a copy of a slice from a DataFrame.\n",
      "Try using .loc[row_indexer,col_indexer] = value instead\n",
      "\n",
      "See the caveats in the documentation: https://pandas.pydata.org/pandas-docs/stable/user_guide/indexing.html#returning-a-view-versus-a-copy\n",
      "  acid_3pka['S0'] = acid_3pka.apply(ph7_acid_intrinsic_sol_cal, axis=1)\n",
      "/tmp/ipykernel_6188/1509842123.py:6: SettingWithCopyWarning: \n",
      "A value is trying to be set on a copy of a slice from a DataFrame.\n",
      "Try using .loc[row_indexer,col_indexer] = value instead\n",
      "\n",
      "See the caveats in the documentation: https://pandas.pydata.org/pandas-docs/stable/user_guide/indexing.html#returning-a-view-versus-a-copy\n",
      "  amphoteric_3pka['cat'] = amphoteric_3pka.apply(ph7_amphoteric_intrinsic_cat, axis=1)\n",
      "/tmp/ipykernel_6188/1509842123.py:7: SettingWithCopyWarning: \n",
      "A value is trying to be set on a copy of a slice from a DataFrame.\n",
      "Try using .loc[row_indexer,col_indexer] = value instead\n",
      "\n",
      "See the caveats in the documentation: https://pandas.pydata.org/pandas-docs/stable/user_guide/indexing.html#returning-a-view-versus-a-copy\n",
      "  base_3pka['cat'] = base_3pka.apply(ph7_base_intrinsic_cat, axis=1)\n",
      "/tmp/ipykernel_6188/1509842123.py:8: SettingWithCopyWarning: \n",
      "A value is trying to be set on a copy of a slice from a DataFrame.\n",
      "Try using .loc[row_indexer,col_indexer] = value instead\n",
      "\n",
      "See the caveats in the documentation: https://pandas.pydata.org/pandas-docs/stable/user_guide/indexing.html#returning-a-view-versus-a-copy\n",
      "  acid_3pka['cat'] = acid_3pka.apply(ph7_acid_intrinsic_cat, axis=1)\n"
     ]
    }
   ],
   "source": [
    "ph7_acid_pka_3, ph7_base_pka_3, ph7_amphoteric_pka_3 = calculate_intrinsic_solubility(ph7_acid_pka_3, ph7_base_pka_3, ph7_amphoteric_pka_3, ph = 7)"
   ]
  },
  {
   "cell_type": "code",
   "execution_count": 19,
   "id": "dc68bb99-5be5-4571-9fb1-e4b65a903337",
   "metadata": {},
   "outputs": [
    {
     "name": "stderr",
     "output_type": "stream",
     "text": [
      "/tmp/ipykernel_6188/1509842123.py:10: SettingWithCopyWarning: \n",
      "A value is trying to be set on a copy of a slice from a DataFrame.\n",
      "Try using .loc[row_indexer,col_indexer] = value instead\n",
      "\n",
      "See the caveats in the documentation: https://pandas.pydata.org/pandas-docs/stable/user_guide/indexing.html#returning-a-view-versus-a-copy\n",
      "  amphoteric_3pka['S0'] = amphoteric_3pka.apply(ph2_amphoteric_intrinsic_sol_cal, axis=1)\n",
      "/tmp/ipykernel_6188/1509842123.py:11: SettingWithCopyWarning: \n",
      "A value is trying to be set on a copy of a slice from a DataFrame.\n",
      "Try using .loc[row_indexer,col_indexer] = value instead\n",
      "\n",
      "See the caveats in the documentation: https://pandas.pydata.org/pandas-docs/stable/user_guide/indexing.html#returning-a-view-versus-a-copy\n",
      "  base_3pka['S0'] = base_3pka.apply(ph2_base_intrinsic_sol_cal, axis=1)\n",
      "/tmp/ipykernel_6188/1509842123.py:13: SettingWithCopyWarning: \n",
      "A value is trying to be set on a copy of a slice from a DataFrame.\n",
      "Try using .loc[row_indexer,col_indexer] = value instead\n",
      "\n",
      "See the caveats in the documentation: https://pandas.pydata.org/pandas-docs/stable/user_guide/indexing.html#returning-a-view-versus-a-copy\n",
      "  amphoteric_3pka['cat'] = amphoteric_3pka.apply(ph2_amphoteric_intrinsic_cat, axis=1)\n",
      "/tmp/ipykernel_6188/1509842123.py:14: SettingWithCopyWarning: \n",
      "A value is trying to be set on a copy of a slice from a DataFrame.\n",
      "Try using .loc[row_indexer,col_indexer] = value instead\n",
      "\n",
      "See the caveats in the documentation: https://pandas.pydata.org/pandas-docs/stable/user_guide/indexing.html#returning-a-view-versus-a-copy\n",
      "  base_3pka['cat'] = base_3pka.apply(ph2_base_intrinsic_cat, axis=1)\n"
     ]
    }
   ],
   "source": [
    "ph2_acid_pka_3, ph2_base_pka_3, ph2_amphoteric_pka_3 = calculate_intrinsic_solubility(ph2_acid_pka_3, ph2_base_pka_3, ph2_amphoteric_pka_3, ph=2)"
   ]
  },
  {
   "cell_type": "code",
   "execution_count": 20,
   "id": "11c7e92d-1ec0-4a44-8539-3010ec4d0173",
   "metadata": {},
   "outputs": [],
   "source": [
    "def concat_intrinsic_dataset(acid_3pka,base_3pka,amphoteric_3pka, neutral):\n",
    "    acid_3pka['category'] = 'acid'\n",
    "    base_3pka['category'] = 'base'\n",
    "    amphoteric_3pka['category'] = 'amphoteric'\n",
    "    amphoteric_3pka = amphoteric_3pka.drop(['total_pka'],axis = 1)\n",
    "    neutral['cat'] = 'neutral'\n",
    "    neutral['category'] = 'neutral'\n",
    "    neutral['S0'] = neutral['sol_log_M']\n",
    "    \n",
    "    intrinsic_sol_full = pd.concat([acid_3pka,base_3pka, amphoteric_3pka, neutral], axis = 0)\n",
    "    print('intrinsic solubility dataset:', len(intrinsic_sol_full))\n",
    "    return intrinsic_sol_full"
   ]
  },
  {
   "cell_type": "code",
   "execution_count": 21,
   "id": "87172b12-2cda-4574-9ea5-1897d48c4176",
   "metadata": {},
   "outputs": [
    {
     "name": "stdout",
     "output_type": "stream",
     "text": [
      "intrinsic solubility dataset: 10510\n",
      "intrinsic solubility dataset: 14023\n"
     ]
    },
    {
     "name": "stderr",
     "output_type": "stream",
     "text": [
      "/tmp/ipykernel_6188/3315312752.py:3: SettingWithCopyWarning: \n",
      "A value is trying to be set on a copy of a slice from a DataFrame.\n",
      "Try using .loc[row_indexer,col_indexer] = value instead\n",
      "\n",
      "See the caveats in the documentation: https://pandas.pydata.org/pandas-docs/stable/user_guide/indexing.html#returning-a-view-versus-a-copy\n",
      "  base_3pka['category'] = 'base'\n",
      "/tmp/ipykernel_6188/3315312752.py:4: SettingWithCopyWarning: \n",
      "A value is trying to be set on a copy of a slice from a DataFrame.\n",
      "Try using .loc[row_indexer,col_indexer] = value instead\n",
      "\n",
      "See the caveats in the documentation: https://pandas.pydata.org/pandas-docs/stable/user_guide/indexing.html#returning-a-view-versus-a-copy\n",
      "  amphoteric_3pka['category'] = 'amphoteric'\n",
      "/tmp/ipykernel_6188/3315312752.py:6: SettingWithCopyWarning: \n",
      "A value is trying to be set on a copy of a slice from a DataFrame.\n",
      "Try using .loc[row_indexer,col_indexer] = value instead\n",
      "\n",
      "See the caveats in the documentation: https://pandas.pydata.org/pandas-docs/stable/user_guide/indexing.html#returning-a-view-versus-a-copy\n",
      "  neutral['cat'] = 'neutral'\n",
      "/tmp/ipykernel_6188/3315312752.py:7: SettingWithCopyWarning: \n",
      "A value is trying to be set on a copy of a slice from a DataFrame.\n",
      "Try using .loc[row_indexer,col_indexer] = value instead\n",
      "\n",
      "See the caveats in the documentation: https://pandas.pydata.org/pandas-docs/stable/user_guide/indexing.html#returning-a-view-versus-a-copy\n",
      "  neutral['category'] = 'neutral'\n",
      "/tmp/ipykernel_6188/3315312752.py:8: SettingWithCopyWarning: \n",
      "A value is trying to be set on a copy of a slice from a DataFrame.\n",
      "Try using .loc[row_indexer,col_indexer] = value instead\n",
      "\n",
      "See the caveats in the documentation: https://pandas.pydata.org/pandas-docs/stable/user_guide/indexing.html#returning-a-view-versus-a-copy\n",
      "  neutral['S0'] = neutral['sol_log_M']\n",
      "/tmp/ipykernel_6188/3315312752.py:2: SettingWithCopyWarning: \n",
      "A value is trying to be set on a copy of a slice from a DataFrame.\n",
      "Try using .loc[row_indexer,col_indexer] = value instead\n",
      "\n",
      "See the caveats in the documentation: https://pandas.pydata.org/pandas-docs/stable/user_guide/indexing.html#returning-a-view-versus-a-copy\n",
      "  acid_3pka['category'] = 'acid'\n",
      "/tmp/ipykernel_6188/3315312752.py:3: SettingWithCopyWarning: \n",
      "A value is trying to be set on a copy of a slice from a DataFrame.\n",
      "Try using .loc[row_indexer,col_indexer] = value instead\n",
      "\n",
      "See the caveats in the documentation: https://pandas.pydata.org/pandas-docs/stable/user_guide/indexing.html#returning-a-view-versus-a-copy\n",
      "  base_3pka['category'] = 'base'\n",
      "/tmp/ipykernel_6188/3315312752.py:4: SettingWithCopyWarning: \n",
      "A value is trying to be set on a copy of a slice from a DataFrame.\n",
      "Try using .loc[row_indexer,col_indexer] = value instead\n",
      "\n",
      "See the caveats in the documentation: https://pandas.pydata.org/pandas-docs/stable/user_guide/indexing.html#returning-a-view-versus-a-copy\n",
      "  amphoteric_3pka['category'] = 'amphoteric'\n",
      "/tmp/ipykernel_6188/3315312752.py:6: SettingWithCopyWarning: \n",
      "A value is trying to be set on a copy of a slice from a DataFrame.\n",
      "Try using .loc[row_indexer,col_indexer] = value instead\n",
      "\n",
      "See the caveats in the documentation: https://pandas.pydata.org/pandas-docs/stable/user_guide/indexing.html#returning-a-view-versus-a-copy\n",
      "  neutral['cat'] = 'neutral'\n",
      "/tmp/ipykernel_6188/3315312752.py:7: SettingWithCopyWarning: \n",
      "A value is trying to be set on a copy of a slice from a DataFrame.\n",
      "Try using .loc[row_indexer,col_indexer] = value instead\n",
      "\n",
      "See the caveats in the documentation: https://pandas.pydata.org/pandas-docs/stable/user_guide/indexing.html#returning-a-view-versus-a-copy\n",
      "  neutral['category'] = 'neutral'\n",
      "/tmp/ipykernel_6188/3315312752.py:8: SettingWithCopyWarning: \n",
      "A value is trying to be set on a copy of a slice from a DataFrame.\n",
      "Try using .loc[row_indexer,col_indexer] = value instead\n",
      "\n",
      "See the caveats in the documentation: https://pandas.pydata.org/pandas-docs/stable/user_guide/indexing.html#returning-a-view-versus-a-copy\n",
      "  neutral['S0'] = neutral['sol_log_M']\n"
     ]
    }
   ],
   "source": [
    "ph2_intrinsic = concat_intrinsic_dataset(ph2_acid_pka_3, ph2_base_pka_3, ph2_amphoteric_pka_3, ph2_neutral)\n",
    "ph7_intrinsic = concat_intrinsic_dataset(ph7_acid_pka_3, ph7_base_pka_3, ph7_amphoteric_pka_3, ph7_neutral)"
   ]
  },
  {
   "cell_type": "code",
   "execution_count": 25,
   "id": "c9686031-1c8c-4e7c-9627-4a061afe0536",
   "metadata": {},
   "outputs": [],
   "source": [
    "ph2_intrinsic.to_csv('reduced_ph2_intrinsic_sol.csv', index = False) \n",
    "ph7_intrinsic.to_csv('reduced_ph7_intrinsic_sol.csv', index = False) "
   ]
  },
  {
   "cell_type": "code",
   "execution_count": 28,
   "id": "f0044f8f-2cf0-4971-9ffe-53c27101f315",
   "metadata": {},
   "outputs": [
    {
     "name": "stdout",
     "output_type": "stream",
     "text": [
      "17001\n"
     ]
    }
   ],
   "source": [
    "# Merge the DataFrames\n",
    "pred_compare = pd.merge(ph7_intrinsic, ph2_intrinsic, how='inner', on=['JNJNUMBER'])\n",
    "print(len(pred_compare))"
   ]
  }
 ],
 "metadata": {
  "kernelspec": {
   "display_name": "Python 3 (ipykernel)",
   "language": "python",
   "name": "python3"
  },
  "language_info": {
   "codemirror_mode": {
    "name": "ipython",
    "version": 3
   },
   "file_extension": ".py",
   "mimetype": "text/x-python",
   "name": "python",
   "nbconvert_exporter": "python",
   "pygments_lexer": "ipython3",
   "version": "3.9.18"
  }
 },
 "nbformat": 4,
 "nbformat_minor": 5
}
