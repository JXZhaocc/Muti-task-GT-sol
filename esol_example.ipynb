{
 "cells": [
  {
   "cell_type": "code",
   "execution_count": 16,
   "id": "d0d6c42a-9905-401c-9072-d921dcb01dd8",
   "metadata": {},
   "outputs": [],
   "source": [
    "import sys\n",
    "import random\n",
    "import time\n",
    "import numpy as np, pandas as pd\n",
    "from tqdm import tqdm\n",
    "from math import log10\n",
    "from sklearn.model_selection import train_test_split\n",
    "from sklearn.metrics import r2_score\n",
    "from sklearn.metrics import mean_squared_error\n",
    "\n",
    "import torch\n",
    "import torch.nn as nn\n",
    "import torch_geometric.transforms as T\n",
    "from torch.utils.data import random_split, DataLoader\n",
    "\n",
    "from dataset import fn, custom_InMemoryDataset, NewDataset_w_sph\n",
    "from train import *\n",
    "from model import Gradformer_DownstreamTasks "
   ]
  },
  {
   "cell_type": "code",
   "execution_count": 2,
   "id": "b86e9b04-a8c9-4250-ac33-2e2628d1ccd5",
   "metadata": {},
   "outputs": [],
   "source": [
    "def canonize(df):\n",
    "    canonical_list = [Chem.MolToSmiles(Chem.MolFromSmiles(smi), isomericSmiles = False) for smi in df['SMILES']]\n",
    "    df['SMILES'] = canonical_list\n",
    "    return df"
   ]
  },
  {
   "cell_type": "code",
   "execution_count": 3,
   "id": "211e70e3-9fbc-4f94-9b2c-767e7f7f20b5",
   "metadata": {},
   "outputs": [],
   "source": [
    "seed = 42\n",
    "esol_path = 'esol.txt'\n",
    "esol= pd.read_csv(esol_path , delimiter = ',')\n",
    "df = esol"
   ]
  },
  {
   "cell_type": "code",
   "execution_count": 4,
   "id": "31dace5b-d61d-4aca-be43-3b219a2bc00c",
   "metadata": {
    "scrolled": true
   },
   "outputs": [
    {
     "name": "stdout",
     "output_type": "stream",
     "text": [
      "<class 'pandas.core.frame.DataFrame'>\n",
      "RangeIndex: 1144 entries, 0 to 1143\n",
      "Data columns (total 4 columns):\n",
      " #   Column                                Non-Null Count  Dtype  \n",
      "---  ------                                --------------  -----  \n",
      " 0   Compound ID                           1144 non-null   object \n",
      " 1   measured log(solubility:mol/L)        1144 non-null   float64\n",
      " 2   ESOL predicted log(solubility:mol/L)  1144 non-null   float64\n",
      " 3   SMILES                                1144 non-null   object \n",
      "dtypes: float64(2), object(2)\n",
      "memory usage: 35.9+ KB\n"
     ]
    }
   ],
   "source": [
    "df.info()"
   ]
  },
  {
   "cell_type": "code",
   "execution_count": 5,
   "id": "2cc13e2f-0afa-4f75-9697-7d1dc8864744",
   "metadata": {},
   "outputs": [],
   "source": [
    "# drop duplicates\n",
    "df = canonize(df)\n",
    "df = df.drop(columns = ['Compound ID', 'ESOL predicted log(solubility:mol/L)'])\n",
    "df_avg = df.groupby('SMILES').mean().reset_index()\n",
    "df = df_avg"
   ]
  },
  {
   "cell_type": "code",
   "execution_count": 6,
   "id": "9b75af2a-870f-4b70-876e-9c57772f9fa0",
   "metadata": {},
   "outputs": [
    {
     "data": {
      "text/plain": [
       "count    1144.000000\n",
       "mean       -3.057997\n",
       "std         2.096502\n",
       "min       -11.600000\n",
       "25%        -4.332250\n",
       "50%        -2.870500\n",
       "75%        -1.600000\n",
       "max         1.580000\n",
       "Name: S0, dtype: float64"
      ]
     },
     "execution_count": 6,
     "metadata": {},
     "output_type": "execute_result"
    }
   ],
   "source": [
    "df['S0'] = df['measured log(solubility:mol/L)']\n",
    "df['S0'].describe()"
   ]
  },
  {
   "cell_type": "code",
   "execution_count": 7,
   "id": "3a93c6e8-520a-48a3-8058-6534b3a6f8db",
   "metadata": {},
   "outputs": [
    {
     "data": {
      "text/html": [
       "<div>\n",
       "<style scoped>\n",
       "    .dataframe tbody tr th:only-of-type {\n",
       "        vertical-align: middle;\n",
       "    }\n",
       "\n",
       "    .dataframe tbody tr th {\n",
       "        vertical-align: top;\n",
       "    }\n",
       "\n",
       "    .dataframe thead th {\n",
       "        text-align: right;\n",
       "    }\n",
       "</style>\n",
       "<table border=\"1\" class=\"dataframe\">\n",
       "  <thead>\n",
       "    <tr style=\"text-align: right;\">\n",
       "      <th></th>\n",
       "      <th>measured log(solubility:mol/L)</th>\n",
       "      <th>SMILES</th>\n",
       "      <th>S0</th>\n",
       "    </tr>\n",
       "  </thead>\n",
       "  <tbody>\n",
       "    <tr>\n",
       "      <th>0</th>\n",
       "      <td>-2.180</td>\n",
       "      <td>ClCC(Cl)(Cl)Cl</td>\n",
       "      <td>-2.180</td>\n",
       "    </tr>\n",
       "    <tr>\n",
       "      <th>1</th>\n",
       "      <td>-2.000</td>\n",
       "      <td>CC(Cl)(Cl)Cl</td>\n",
       "      <td>-2.000</td>\n",
       "    </tr>\n",
       "    <tr>\n",
       "      <th>2</th>\n",
       "      <td>-1.740</td>\n",
       "      <td>ClC(Cl)C(Cl)Cl</td>\n",
       "      <td>-1.740</td>\n",
       "    </tr>\n",
       "    <tr>\n",
       "      <th>3</th>\n",
       "      <td>-1.480</td>\n",
       "      <td>ClCC(Cl)Cl</td>\n",
       "      <td>-1.480</td>\n",
       "    </tr>\n",
       "    <tr>\n",
       "      <th>4</th>\n",
       "      <td>-3.040</td>\n",
       "      <td>FC(F)(Cl)C(F)(Cl)Cl</td>\n",
       "      <td>-3.040</td>\n",
       "    </tr>\n",
       "    <tr>\n",
       "      <th>...</th>\n",
       "      <td>...</td>\n",
       "      <td>...</td>\n",
       "      <td>...</td>\n",
       "    </tr>\n",
       "    <tr>\n",
       "      <th>1139</th>\n",
       "      <td>1.144</td>\n",
       "      <td>CNC(=O)C(C)SCCSP(=O)(OC)OC</td>\n",
       "      <td>1.144</td>\n",
       "    </tr>\n",
       "    <tr>\n",
       "      <th>1140</th>\n",
       "      <td>-4.925</td>\n",
       "      <td>C=CC1(C)OC(=O)N(c2cc(Cl)cc(Cl)c2)C1=O</td>\n",
       "      <td>-4.925</td>\n",
       "    </tr>\n",
       "    <tr>\n",
       "      <th>1141</th>\n",
       "      <td>-3.893</td>\n",
       "      <td>CC(=O)CC(c1ccccc1)c1c(O)c2ccccc2oc1=O</td>\n",
       "      <td>-3.893</td>\n",
       "    </tr>\n",
       "    <tr>\n",
       "      <th>1142</th>\n",
       "      <td>-3.790</td>\n",
       "      <td>Cc1cccc(C)c1NC(=O)c1cc(S(N)(=O)=O)c(Cl)cc1O</td>\n",
       "      <td>-3.790</td>\n",
       "    </tr>\n",
       "    <tr>\n",
       "      <th>1143</th>\n",
       "      <td>-2.581</td>\n",
       "      <td>CNC(=O)Oc1cc(C)cc(C)c1</td>\n",
       "      <td>-2.581</td>\n",
       "    </tr>\n",
       "  </tbody>\n",
       "</table>\n",
       "<p>1144 rows × 3 columns</p>\n",
       "</div>"
      ],
      "text/plain": [
       "      measured log(solubility:mol/L)  \\\n",
       "0                             -2.180   \n",
       "1                             -2.000   \n",
       "2                             -1.740   \n",
       "3                             -1.480   \n",
       "4                             -3.040   \n",
       "...                              ...   \n",
       "1139                           1.144   \n",
       "1140                          -4.925   \n",
       "1141                          -3.893   \n",
       "1142                          -3.790   \n",
       "1143                          -2.581   \n",
       "\n",
       "                                           SMILES     S0  \n",
       "0                                  ClCC(Cl)(Cl)Cl -2.180  \n",
       "1                                    CC(Cl)(Cl)Cl -2.000  \n",
       "2                                  ClC(Cl)C(Cl)Cl -1.740  \n",
       "3                                      ClCC(Cl)Cl -1.480  \n",
       "4                             FC(F)(Cl)C(F)(Cl)Cl -3.040  \n",
       "...                                           ...    ...  \n",
       "1139                   CNC(=O)C(C)SCCSP(=O)(OC)OC  1.144  \n",
       "1140        C=CC1(C)OC(=O)N(c2cc(Cl)cc(Cl)c2)C1=O -4.925  \n",
       "1141        CC(=O)CC(c1ccccc1)c1c(O)c2ccccc2oc1=O -3.893  \n",
       "1142  Cc1cccc(C)c1NC(=O)c1cc(S(N)(=O)=O)c(Cl)cc1O -3.790  \n",
       "1143                       CNC(=O)Oc1cc(C)cc(C)c1 -2.581  \n",
       "\n",
       "[1144 rows x 3 columns]"
      ]
     },
     "execution_count": 7,
     "metadata": {},
     "output_type": "execute_result"
    }
   ],
   "source": [
    "def tolog10(x):\n",
    "    try:    o= log10(x)\n",
    "    except:        o= np.nan\n",
    "    return o\n",
    "\n",
    "nonlog10=['S0'] \n",
    "properties=nonlog10\n",
    "\n",
    "df_clean=df"
   ]
  },
  {
   "cell_type": "code",
   "execution_count": 8,
   "id": "676778b8-5b0d-4d4c-8a1c-db094c2b1280",
   "metadata": {},
   "outputs": [],
   "source": [
    "from sklearn.model_selection import train_test_split\n",
    "\n",
    "y_bins = pd.cut(df['S0'], bins = 5)\n",
    "train_df, test_valid = train_test_split( df_clean,  test_size=0.3 , stratify=y_bins,random_state =seed)\n",
    "y_bins_2 = pd.cut(test_valid['S0'], bins = 5)\n",
    "test_df, validation = train_test_split( test_valid,  test_size=0.5, stratify=y_bins_2,random_state =seed)\n",
    "\n",
    "len(train_df), len(test_df), len(validation)\n",
    "train_df.reset_index(drop=True , inplace=True)\n",
    "test_df.reset_index(drop=True , inplace=True)\n",
    "validation.reset_index(drop=True , inplace=True)\n"
   ]
  },
  {
   "cell_type": "code",
   "execution_count": 9,
   "id": "e02a73ed-0916-4419-9e8a-27b87d27fa8d",
   "metadata": {},
   "outputs": [
    {
     "data": {
      "text/plain": [
       "(array([ 1.,  0.,  4.,  8., 15., 32., 44., 39., 20.,  9.]),\n",
       " array([-11.6  , -10.282,  -8.964,  -7.646,  -6.328,  -5.01 ,  -3.692,\n",
       "         -2.374,  -1.056,   0.262,   1.58 ]),\n",
       " <BarContainer object of 10 artists>)"
      ]
     },
     "execution_count": 9,
     "metadata": {},
     "output_type": "execute_result"
    },
    {
     "data": {
      "image/png": "[encoded data removed]",
      "text/plain": [
       "<Figure size 640x480 with 1 Axes>"
      ]
     },
     "metadata": {},
     "output_type": "display_data"
    }
   ],
   "source": [
    "import matplotlib.pyplot as plt\n",
    "plt.hist(train_df['S0'], alpha = 0.4)\n",
    "plt.hist(test_df['S0'],  alpha = 0.4)\n",
    "plt.hist(validation['S0'],  alpha = 0.4)"
   ]
  },
  {
   "cell_type": "code",
   "execution_count": 12,
   "id": "06489d23-5fb1-483a-a43b-af90fcc07601",
   "metadata": {},
   "outputs": [],
   "source": [
    "folder=f'esol_run'\n",
    "!mkdir {folder}"
   ]
  },
  {
   "cell_type": "code",
   "execution_count": 13,
   "id": "2f75a0db-cd13-4173-b105-914408713cb0",
   "metadata": {},
   "outputs": [],
   "source": [
    "train_df.to_csv(f'{folder}/Training_data_ALL_ADME.csv.gz',index =False,          compression=\"gzip\")\n",
    "validation.to_csv(f'{folder}/validation_data_ALL_ADME.csv.gz',index =False,            compression=\"gzip\")\n",
    "test_df.to_csv(f'{folder}/Test_data_ALL_ADME.csv.gz',index =False,            compression=\"gzip\")"
   ]
  },
  {
   "cell_type": "code",
   "execution_count": 14,
   "id": "cecca71f-05b6-44e1-a029-22d6531d1cd6",
   "metadata": {},
   "outputs": [
    {
     "name": "stderr",
     "output_type": "stream",
     "text": [
      "Processing...\n"
     ]
    },
    {
     "name": "stdout",
     "output_type": "stream",
     "text": [
      "Converting SMILES strings into graphs...\n"
     ]
    },
    {
     "name": "stderr",
     "output_type": "stream",
     "text": [
      "100%|██████████| 800/800 [00:00<00:00, 818.83it/s]\n",
      "Done!\n"
     ]
    },
    {
     "name": "stdout",
     "output_type": "stream",
     "text": [
      "Saving...\n",
      "pre-process sph start!\n"
     ]
    },
    {
     "name": "stderr",
     "output_type": "stream",
     "text": [
      "pre-processing Data: 100%|█| 800/800 [00\n",
      "Processing...\n"
     ]
    },
    {
     "name": "stdout",
     "output_type": "stream",
     "text": [
      "pre-process sph done!\n",
      "Converting SMILES strings into graphs...\n"
     ]
    },
    {
     "name": "stderr",
     "output_type": "stream",
     "text": [
      "100%|██████████| 172/172 [00:00<00:00, 809.82it/s]\n",
      "Done!\n"
     ]
    },
    {
     "name": "stdout",
     "output_type": "stream",
     "text": [
      "Saving...\n",
      "pre-process sph start!\n"
     ]
    },
    {
     "name": "stderr",
     "output_type": "stream",
     "text": [
      "pre-processing Data: 100%|█| 172/172 [00\n",
      "Processing...\n"
     ]
    },
    {
     "name": "stdout",
     "output_type": "stream",
     "text": [
      "pre-process sph done!\n",
      "Converting SMILES strings into graphs...\n"
     ]
    },
    {
     "name": "stderr",
     "output_type": "stream",
     "text": [
      "100%|██████████| 172/172 [00:00<00:00, 801.13it/s]\n",
      "Done!\n"
     ]
    },
    {
     "name": "stdout",
     "output_type": "stream",
     "text": [
      "Saving...\n",
      "pre-process sph start!\n"
     ]
    },
    {
     "name": "stderr",
     "output_type": "stream",
     "text": [
      "pre-processing Data: 100%|█| 172/172 [00\n"
     ]
    },
    {
     "name": "stdout",
     "output_type": "stream",
     "text": [
      "pre-process sph done!\n"
     ]
    }
   ],
   "source": [
    "properties=properties=['S0']\n",
    "pre_transform = T.AddRandomWalkPE(walk_length=20, attr_name='pe')\n",
    "dataset_train=custom_InMemoryDataset( df=train_df,properties=properties,smiles=\"SMILES\", pre_transform=pre_transform, root=f'{folder}/train')\n",
    "dataset_train_sph = NewDataset_w_sph(dataset_train)\n",
    "dataset_test=custom_InMemoryDataset( df=test_df,properties=properties,smiles=\"SMILES\", pre_transform=pre_transform, root=f'{folder}/test')\n",
    "dataset_test_sph = NewDataset_w_sph(dataset_test)\n",
    "dataset_validation=custom_InMemoryDataset( df=validation,properties=properties,smiles=\"SMILES\", pre_transform=pre_transform, root=f'{folder}/vald')\n",
    "dataset_validation_sph = NewDataset_w_sph(dataset_validation)\n",
    "#dataset[22]"
   ]
  },
  {
   "cell_type": "code",
   "execution_count": 17,
   "id": "2d741369-df7d-42eb-9c6e-fa643c94f2eb",
   "metadata": {},
   "outputs": [
    {
     "data": {
      "text/plain": [
       "DataBatch(edge_index=[2, 2292], edge_attr=[2292, 3], x=[1102, 9], S0=[75], pe=[1102, 20], sph=[4050, 54], batch=[1102], ptr=[76])"
      ]
     },
     "execution_count": 17,
     "metadata": {},
     "output_type": "execute_result"
    }
   ],
   "source": [
    "batch_size=75\n",
    "train_loader = DataLoader(dataset_train_sph, batch_size=batch_size, shuffle=True, collate_fn=fn)\n",
    "val_loader = DataLoader(dataset_validation_sph, batch_size=3*batch_size, collate_fn=fn)\n",
    "test_loader = DataLoader(dataset_test_sph, batch_size=3*batch_size, collate_fn=fn)\n",
    "batch=next(iter(train_loader))"
   ]
  },
  {
   "cell_type": "code",
   "execution_count": 20,
   "id": "b7d4c81e-fe4a-4299-a6d9-8785d499e053",
   "metadata": {},
   "outputs": [],
   "source": [
    "pred_hidden_dropout=0.1\n",
    "tasks={}\n",
    "for p in properties:#['log_Human_PPB_Cyprotex %Free (%)', 'log_Rat_PPB_Cyprotex %Free (%)','log_Mouse_PPB_Cyprotex %Free (%)']:\n",
    "    tasks[p] = {'is_regression':1, 'n_output':1,'n_layers':1 ,'pred_hidden_dropout':pred_hidden_dropout,'out_dim': 50}"
   ]
  },
  {
   "cell_type": "code",
   "execution_count": 21,
   "id": "7a30c8d4-c7b2-40f4-a2dd-0dd74236752e",
   "metadata": {},
   "outputs": [
    {
     "name": "stdout",
     "output_type": "stream",
     "text": [
      "Using one GPU\n"
     ]
    },
    {
     "data": {
      "text/plain": [
       "(device(type='cuda', index=0), [0])"
      ]
     },
     "execution_count": 21,
     "metadata": {},
     "output_type": "execute_result"
    }
   ],
   "source": [
    "device , device_ids=set_device(with_cuda=True, cuda_devices= 'all')\n",
    "device , device_ids"
   ]
  },
  {
   "cell_type": "code",
   "execution_count": 22,
   "id": "4e27f300-fc68-4842-b015-1127dd00c8e3",
   "metadata": {},
   "outputs": [
    {
     "name": "stdout",
     "output_type": "stream",
     "text": [
      "the learning rate of the encoder is scaled by 1\n"
     ]
    }
   ],
   "source": [
    "model = Gradformer_DownstreamTasks( tasks, fine_tune_scale=1 ,lr=0.0005 , encoder= 'new').to(device)\n",
    "optimizer=model.optimizer"
   ]
  },
  {
   "cell_type": "code",
   "execution_count": 23,
   "id": "85e17616-9994-4ab6-888c-8320267edaa3",
   "metadata": {},
   "outputs": [],
   "source": [
    "FAC_LR_HOP=10\n",
    "lr=0.0005\n",
    "parm_groups=[{ 'params': [param for name, param in model.named_parameters() if 'encoder.hop'  in name], 'lr': FAC_LR_HOP*lr }]\n",
    "\n",
    "parm_groups+=[{ 'params': [param for name, param in model.named_parameters() if 'encoder.hop' not in name], 'lr': lr }]\n",
    "optimizer=optim.Adam(parm_groups, lr=lr)"
   ]
  },
  {
   "cell_type": "code",
   "execution_count": 24,
   "id": "28243333-9925-457c-a539-adb2cbc52bf9",
   "metadata": {},
   "outputs": [],
   "source": [
    "out_dir=f'{folder}/train_logs' \n",
    "#'/workspace/ALL_ADME' \n",
    "trainer= Task_trainer( model= model ,\n",
    "                          mutitasks=False,\n",
    "                 out_dir=out_dir,\n",
    "                 device=device,\n",
    "                 device_ids=device_ids,\n",
    "                 optimizer=optimizer,\n",
    "                # vocab=vocab,\n",
    "                 lr= 0.005,\n",
    "                 eval_every_epoch=1,\n",
    "                  print_logs_every=5, \n",
    "                verbose=True,\n",
    "                 log_freq= 100 )\n",
    "trainer.early_stopping=30"
   ]
  },
  {
   "cell_type": "code",
   "execution_count": 25,
   "id": "96a126c9-fb65-4938-badf-a2429a9e7279",
   "metadata": {},
   "outputs": [
    {
     "name": "stdout",
     "output_type": "stream",
     "text": [
      "Number of training batchs is 11\n",
      "saving the outputs in folder esol_run/train_logs\n",
      "number of training epochs = 200\n"
     ]
    },
    {
     "name": "stderr",
     "output_type": "stream",
     "text": [
      "Train_Epoch:1:Batch: 100%|██████████| 11/11 [00:01<00:00, 10.57it/s]\n"
     ]
    },
    {
     "name": "stdout",
     "output_type": "stream",
     "text": [
      "Saving the checkpoint and the best model which is found at epoch 1...\n",
      "\u001b[1m Losses and metrics of epoch 1: \u001b[0m\n",
      "\u001b[1mS0\u001b[0m: Pre-fit train-loss=9.4784568 |Eval-loss=10.2765207 |Eval metric R2=-1.2620 |uncertainty=1.0000\n"
     ]
    },
    {
     "name": "stderr",
     "output_type": "stream",
     "text": [
      "Train_Epoch:2:Batch: 100%|██████████| 11/11 [00:00<00:00, 18.33it/s]\n"
     ]
    },
    {
     "name": "stdout",
     "output_type": "stream",
     "text": [
      "Saving the checkpoint and the best model which is found at epoch 2...\n"
     ]
    },
    {
     "name": "stderr",
     "output_type": "stream",
     "text": [
      "Train_Epoch:3:Batch: 100%|██████████| 11/11 [00:00<00:00, 18.43it/s]\n"
     ]
    },
    {
     "name": "stdout",
     "output_type": "stream",
     "text": [
      "Saving the checkpoint and the best model which is found at epoch 3...\n"
     ]
    },
    {
     "name": "stderr",
     "output_type": "stream",
     "text": [
      "Train_Epoch:4:Batch: 100%|██████████| 11/11 [00:00<00:00, 16.93it/s]\n"
     ]
    },
    {
     "name": "stdout",
     "output_type": "stream",
     "text": [
      "Saving the checkpoint and the best model which is found at epoch 4...\n"
     ]
    },
    {
     "name": "stderr",
     "output_type": "stream",
     "text": [
      "Train_Epoch:5:Batch: 100%|██████████| 11/11 [00:00<00:00, 16.01it/s]\n"
     ]
    },
    {
     "name": "stdout",
     "output_type": "stream",
     "text": [
      "Saving the checkpoint and the best model which is found at epoch 5...\n"
     ]
    },
    {
     "name": "stderr",
     "output_type": "stream",
     "text": [
      "Train_Epoch:6:Batch: 100%|██████████| 11/11 [00:00<00:00, 16.92it/s]\n"
     ]
    },
    {
     "name": "stdout",
     "output_type": "stream",
     "text": [
      "Saving the checkpoint and the best model which is found at epoch 6...\n",
      "\u001b[1m Losses and metrics of epoch 6: \u001b[0m\n",
      "\u001b[1mS0\u001b[0m: Pre-fit train-loss=3.8613947 |Eval-loss=3.0878034 |Eval metric R2=0.3203 |uncertainty=1.0000\n"
     ]
    },
    {
     "name": "stderr",
     "output_type": "stream",
     "text": [
      "Train_Epoch:7:Batch: 100%|██████████| 11/11 [00:00<00:00, 17.94it/s]\n"
     ]
    },
    {
     "name": "stdout",
     "output_type": "stream",
     "text": [
      "Saving the checkpoint and the best model which is found at epoch 7...\n"
     ]
    },
    {
     "name": "stderr",
     "output_type": "stream",
     "text": [
      "Train_Epoch:8:Batch: 100%|██████████| 11/11 [00:00<00:00, 20.72it/s]\n"
     ]
    },
    {
     "name": "stdout",
     "output_type": "stream",
     "text": [
      "Saving the checkpoint and the best model which is found at epoch 8...\n"
     ]
    },
    {
     "name": "stderr",
     "output_type": "stream",
     "text": [
      "Train_Epoch:9:Batch: 100%|██████████| 11/11 [00:00<00:00, 18.76it/s]\n"
     ]
    },
    {
     "name": "stdout",
     "output_type": "stream",
     "text": [
      "Saving the checkpoint and the best model which is found at epoch 9...\n"
     ]
    },
    {
     "name": "stderr",
     "output_type": "stream",
     "text": [
      "Train_Epoch:10:Batch: 100%|██████████| 11/11 [00:00<00:00, 19.21it/s]\n"
     ]
    },
    {
     "name": "stdout",
     "output_type": "stream",
     "text": [
      "Saving the checkpoint and the best model which is found at epoch 10...\n"
     ]
    },
    {
     "name": "stderr",
     "output_type": "stream",
     "text": [
      "Train_Epoch:11:Batch: 100%|██████████| 11/11 [00:00<00:00, 19.24it/s]\n"
     ]
    },
    {
     "name": "stdout",
     "output_type": "stream",
     "text": [
      "\u001b[1m Losses and metrics of epoch 11: \u001b[0m\n",
      "\u001b[1mS0\u001b[0m: Pre-fit train-loss=1.8313645 |Eval-loss=1.5829705 |Eval metric R2=0.6516 |uncertainty=1.0000\n"
     ]
    },
    {
     "name": "stderr",
     "output_type": "stream",
     "text": [
      "Train_Epoch:12:Batch: 100%|██████████| 11/11 [00:00<00:00, 19.30it/s]\n"
     ]
    },
    {
     "name": "stdout",
     "output_type": "stream",
     "text": [
      "Saving the checkpoint and the best model which is found at epoch 12...\n"
     ]
    },
    {
     "name": "stderr",
     "output_type": "stream",
     "text": [
      "Train_Epoch:13:Batch: 100%|██████████| 11/11 [00:00<00:00, 21.13it/s]\n",
      "Train_Epoch:14:Batch: 100%|██████████| 11/11 [00:00<00:00, 20.67it/s]\n",
      "Train_Epoch:15:Batch: 100%|██████████| 11/11 [00:00<00:00, 19.89it/s]\n"
     ]
    },
    {
     "name": "stdout",
     "output_type": "stream",
     "text": [
      "Saving the checkpoint and the best model which is found at epoch 15...\n"
     ]
    },
    {
     "name": "stderr",
     "output_type": "stream",
     "text": [
      "Train_Epoch:16:Batch: 100%|██████████| 11/11 [00:00<00:00, 19.01it/s]\n"
     ]
    },
    {
     "name": "stdout",
     "output_type": "stream",
     "text": [
      "Saving the checkpoint and the best model which is found at epoch 16...\n",
      "\u001b[1m Losses and metrics of epoch 16: \u001b[0m\n",
      "\u001b[1mS0\u001b[0m: Pre-fit train-loss=1.0794436 |Eval-loss=0.9800958 |Eval metric R2=0.7843 |uncertainty=1.0000\n"
     ]
    },
    {
     "name": "stderr",
     "output_type": "stream",
     "text": [
      "Train_Epoch:17:Batch: 100%|██████████| 11/11 [00:00<00:00, 19.59it/s]\n",
      "Train_Epoch:18:Batch: 100%|██████████| 11/11 [00:00<00:00, 19.15it/s]\n",
      "Train_Epoch:19:Batch: 100%|██████████| 11/11 [00:00<00:00, 19.15it/s]\n",
      "Train_Epoch:20:Batch: 100%|██████████| 11/11 [00:00<00:00, 19.30it/s]\n",
      "Train_Epoch:21:Batch: 100%|██████████| 11/11 [00:00<00:00, 19.41it/s]\n"
     ]
    },
    {
     "name": "stdout",
     "output_type": "stream",
     "text": [
      "\u001b[1m Losses and metrics of epoch 21: \u001b[0m\n",
      "\u001b[1mS0\u001b[0m: Pre-fit train-loss=0.8381682 |Eval-loss=1.0066231 |Eval metric R2=0.7784 |uncertainty=1.0000\n"
     ]
    },
    {
     "name": "stderr",
     "output_type": "stream",
     "text": [
      "Train_Epoch:22:Batch: 100%|██████████| 11/11 [00:00<00:00, 19.21it/s]\n"
     ]
    },
    {
     "name": "stdout",
     "output_type": "stream",
     "text": [
      "Saving the checkpoint and the best model which is found at epoch 22...\n"
     ]
    },
    {
     "name": "stderr",
     "output_type": "stream",
     "text": [
      "Train_Epoch:23:Batch: 100%|██████████| 11/11 [00:00<00:00, 18.83it/s]\n",
      "Train_Epoch:24:Batch: 100%|██████████| 11/11 [00:00<00:00, 19.41it/s]\n",
      "Train_Epoch:25:Batch: 100%|██████████| 11/11 [00:00<00:00, 19.38it/s]\n"
     ]
    },
    {
     "name": "stdout",
     "output_type": "stream",
     "text": [
      "Saving the checkpoint and the best model which is found at epoch 25...\n"
     ]
    },
    {
     "name": "stderr",
     "output_type": "stream",
     "text": [
      "Train_Epoch:26:Batch: 100%|██████████| 11/11 [00:00<00:00, 19.25it/s]\n"
     ]
    },
    {
     "name": "stdout",
     "output_type": "stream",
     "text": [
      "\u001b[1m Losses and metrics of epoch 26: \u001b[0m\n",
      "\u001b[1mS0\u001b[0m: Pre-fit train-loss=0.7172672 |Eval-loss=0.6658943 |Eval metric R2=0.8534 |uncertainty=1.0000\n"
     ]
    },
    {
     "name": "stderr",
     "output_type": "stream",
     "text": [
      "Train_Epoch:27:Batch: 100%|██████████| 11/11 [00:00<00:00, 19.20it/s]\n",
      "Train_Epoch:28:Batch: 100%|██████████| 11/11 [00:00<00:00, 19.25it/s]\n",
      "Train_Epoch:29:Batch: 100%|██████████| 11/11 [00:00<00:00, 19.05it/s]\n",
      "Train_Epoch:30:Batch: 100%|██████████| 11/11 [00:00<00:00, 19.23it/s]\n",
      "Train_Epoch:31:Batch: 100%|██████████| 11/11 [00:00<00:00, 19.19it/s]\n"
     ]
    },
    {
     "name": "stdout",
     "output_type": "stream",
     "text": [
      "\u001b[1m Losses and metrics of epoch 31: \u001b[0m\n",
      "\u001b[1mS0\u001b[0m: Pre-fit train-loss=0.6348331 |Eval-loss=0.6616949 |Eval metric R2=0.8544 |uncertainty=1.0000\n"
     ]
    },
    {
     "name": "stderr",
     "output_type": "stream",
     "text": [
      "Train_Epoch:32:Batch: 100%|██████████| 11/11 [00:00<00:00, 19.11it/s]\n"
     ]
    },
    {
     "name": "stdout",
     "output_type": "stream",
     "text": [
      "Saving the checkpoint and the best model which is found at epoch 32...\n"
     ]
    },
    {
     "name": "stderr",
     "output_type": "stream",
     "text": [
      "Train_Epoch:33:Batch: 100%|██████████| 11/11 [00:00<00:00, 17.82it/s]\n"
     ]
    },
    {
     "name": "stdout",
     "output_type": "stream",
     "text": [
      "Saving the checkpoint and the best model which is found at epoch 33...\n"
     ]
    },
    {
     "name": "stderr",
     "output_type": "stream",
     "text": [
      "Train_Epoch:34:Batch: 100%|██████████| 11/11 [00:00<00:00, 15.63it/s]\n"
     ]
    },
    {
     "name": "stdout",
     "output_type": "stream",
     "text": [
      "Saving the checkpoint and the best model which is found at epoch 34...\n"
     ]
    },
    {
     "name": "stderr",
     "output_type": "stream",
     "text": [
      "Train_Epoch:35:Batch: 100%|██████████| 11/11 [00:00<00:00, 15.44it/s]\n",
      "Train_Epoch:36:Batch: 100%|██████████| 11/11 [00:00<00:00, 15.63it/s]\n"
     ]
    },
    {
     "name": "stdout",
     "output_type": "stream",
     "text": [
      "Saving the checkpoint and the best model which is found at epoch 36...\n",
      "\u001b[1m Losses and metrics of epoch 36: \u001b[0m\n",
      "\u001b[1mS0\u001b[0m: Pre-fit train-loss=0.5550775 |Eval-loss=0.4702657 |Eval metric R2=0.8965 |uncertainty=1.0000\n"
     ]
    },
    {
     "name": "stderr",
     "output_type": "stream",
     "text": [
      "Train_Epoch:37:Batch: 100%|██████████| 11/11 [00:00<00:00, 18.38it/s]\n",
      "Train_Epoch:38:Batch: 100%|██████████| 11/11 [00:00<00:00, 18.99it/s]\n"
     ]
    },
    {
     "name": "stdout",
     "output_type": "stream",
     "text": [
      "Saving the checkpoint and the best model which is found at epoch 38...\n"
     ]
    },
    {
     "name": "stderr",
     "output_type": "stream",
     "text": [
      "Train_Epoch:39:Batch: 100%|██████████| 11/11 [00:00<00:00, 18.89it/s]\n",
      "Train_Epoch:40:Batch: 100%|██████████| 11/11 [00:00<00:00, 19.15it/s]\n",
      "Train_Epoch:41:Batch: 100%|██████████| 11/11 [00:00<00:00, 19.25it/s]\n"
     ]
    },
    {
     "name": "stdout",
     "output_type": "stream",
     "text": [
      "\u001b[1m Losses and metrics of epoch 41: \u001b[0m\n",
      "\u001b[1mS0\u001b[0m: Pre-fit train-loss=0.6101783 |Eval-loss=0.6595687 |Eval metric R2=0.8548 |uncertainty=1.0000\n"
     ]
    },
    {
     "name": "stderr",
     "output_type": "stream",
     "text": [
      "Train_Epoch:42:Batch: 100%|██████████| 11/11 [00:00<00:00, 19.96it/s]\n",
      "Train_Epoch:43:Batch: 100%|██████████| 11/11 [00:00<00:00, 20.58it/s]\n",
      "Train_Epoch:44:Batch: 100%|██████████| 11/11 [00:00<00:00, 20.86it/s]\n",
      "Train_Epoch:45:Batch: 100%|██████████| 11/11 [00:00<00:00, 17.41it/s]\n",
      "Train_Epoch:46:Batch: 100%|██████████| 11/11 [00:00<00:00, 16.56it/s]\n"
     ]
    },
    {
     "name": "stdout",
     "output_type": "stream",
     "text": [
      "\u001b[1m Losses and metrics of epoch 46: \u001b[0m\n",
      "\u001b[1mS0\u001b[0m: Pre-fit train-loss=0.4238012 |Eval-loss=0.5457426 |Eval metric R2=0.8799 |uncertainty=1.0000\n"
     ]
    },
    {
     "name": "stderr",
     "output_type": "stream",
     "text": [
      "Train_Epoch:47:Batch: 100%|██████████| 11/11 [00:00<00:00, 16.61it/s]\n",
      "Train_Epoch:48:Batch: 100%|██████████| 11/11 [00:00<00:00, 16.10it/s]\n",
      "Train_Epoch:49:Batch: 100%|██████████| 11/11 [00:00<00:00, 17.05it/s]\n"
     ]
    },
    {
     "name": "stdout",
     "output_type": "stream",
     "text": [
      "Saving the checkpoint and the best model which is found at epoch 49...\n"
     ]
    },
    {
     "name": "stderr",
     "output_type": "stream",
     "text": [
      "Train_Epoch:50:Batch: 100%|██████████| 11/11 [00:00<00:00, 15.14it/s]\n"
     ]
    },
    {
     "name": "stdout",
     "output_type": "stream",
     "text": [
      "Saving the checkpoint and the best model which is found at epoch 50...\n"
     ]
    },
    {
     "name": "stderr",
     "output_type": "stream",
     "text": [
      "Train_Epoch:51:Batch: 100%|██████████| 11/11 [00:00<00:00, 16.09it/s]\n"
     ]
    },
    {
     "name": "stdout",
     "output_type": "stream",
     "text": [
      "\u001b[1m Losses and metrics of epoch 51: \u001b[0m\n",
      "\u001b[1mS0\u001b[0m: Pre-fit train-loss=0.4586034 |Eval-loss=0.5567865 |Eval metric R2=0.8774 |uncertainty=1.0000\n"
     ]
    },
    {
     "name": "stderr",
     "output_type": "stream",
     "text": [
      "Train_Epoch:52:Batch: 100%|██████████| 11/11 [00:00<00:00, 20.38it/s]\n",
      "Train_Epoch:53:Batch: 100%|██████████| 11/11 [00:00<00:00, 20.23it/s]\n",
      "Train_Epoch:54:Batch: 100%|██████████| 11/11 [00:00<00:00, 18.41it/s]\n",
      "Train_Epoch:55:Batch: 100%|██████████| 11/11 [00:00<00:00, 17.98it/s]\n",
      "Train_Epoch:56:Batch: 100%|██████████| 11/11 [00:00<00:00, 18.29it/s]\n"
     ]
    },
    {
     "name": "stdout",
     "output_type": "stream",
     "text": [
      "\u001b[1m Losses and metrics of epoch 56: \u001b[0m\n",
      "\u001b[1mS0\u001b[0m: Pre-fit train-loss=0.4252413 |Eval-loss=0.6150478 |Eval metric R2=0.8646 |uncertainty=1.0000\n"
     ]
    },
    {
     "name": "stderr",
     "output_type": "stream",
     "text": [
      "Train_Epoch:57:Batch: 100%|██████████| 11/11 [00:00<00:00, 18.21it/s]\n",
      "Train_Epoch:58:Batch: 100%|██████████| 11/11 [00:00<00:00, 20.04it/s]\n",
      "Train_Epoch:59:Batch: 100%|██████████| 11/11 [00:00<00:00, 18.56it/s]\n",
      "Train_Epoch:60:Batch: 100%|██████████| 11/11 [00:00<00:00, 18.52it/s]\n",
      "Train_Epoch:61:Batch: 100%|██████████| 11/11 [00:00<00:00, 18.60it/s]\n"
     ]
    },
    {
     "name": "stdout",
     "output_type": "stream",
     "text": [
      "\u001b[1m Losses and metrics of epoch 61: \u001b[0m\n",
      "\u001b[1mS0\u001b[0m: Pre-fit train-loss=0.3469347 |Eval-loss=0.5984927 |Eval metric R2=0.8683 |uncertainty=1.0000\n"
     ]
    },
    {
     "name": "stderr",
     "output_type": "stream",
     "text": [
      "Train_Epoch:62:Batch: 100%|██████████| 11/11 [00:00<00:00, 18.81it/s]\n",
      "Train_Epoch:63:Batch: 100%|██████████| 11/11 [00:00<00:00, 21.06it/s]\n",
      "Train_Epoch:64:Batch: 100%|██████████| 11/11 [00:00<00:00, 20.74it/s]\n",
      "Train_Epoch:65:Batch: 100%|██████████| 11/11 [00:00<00:00, 20.90it/s]\n",
      "Train_Epoch:66:Batch: 100%|██████████| 11/11 [00:00<00:00, 21.20it/s]\n"
     ]
    },
    {
     "name": "stdout",
     "output_type": "stream",
     "text": [
      "\u001b[1m Losses and metrics of epoch 66: \u001b[0m\n",
      "\u001b[1mS0\u001b[0m: Pre-fit train-loss=0.3896935 |Eval-loss=0.5408967 |Eval metric R2=0.8809 |uncertainty=1.0000\n"
     ]
    },
    {
     "name": "stderr",
     "output_type": "stream",
     "text": [
      "Train_Epoch:67:Batch: 100%|██████████| 11/11 [00:00<00:00, 18.20it/s]\n",
      "Train_Epoch:68:Batch: 100%|██████████| 11/11 [00:00<00:00, 17.97it/s]\n",
      "Train_Epoch:69:Batch: 100%|██████████| 11/11 [00:00<00:00, 18.10it/s]\n",
      "Train_Epoch:70:Batch: 100%|██████████| 11/11 [00:00<00:00, 17.30it/s]\n",
      "Train_Epoch:71:Batch: 100%|██████████| 11/11 [00:00<00:00, 18.40it/s]\n"
     ]
    },
    {
     "name": "stdout",
     "output_type": "stream",
     "text": [
      "\u001b[1m Losses and metrics of epoch 71: \u001b[0m\n",
      "\u001b[1mS0\u001b[0m: Pre-fit train-loss=0.3706390 |Eval-loss=0.4702947 |Eval metric R2=0.8965 |uncertainty=1.0000\n"
     ]
    },
    {
     "name": "stderr",
     "output_type": "stream",
     "text": [
      "Train_Epoch:72:Batch: 100%|██████████| 11/11 [00:00<00:00, 19.86it/s]\n",
      "Train_Epoch:73:Batch: 100%|██████████| 11/11 [00:00<00:00, 19.19it/s]\n",
      "Train_Epoch:74:Batch: 100%|██████████| 11/11 [00:00<00:00, 18.83it/s]\n",
      "Train_Epoch:75:Batch: 100%|██████████| 11/11 [00:00<00:00, 19.71it/s]\n",
      "Train_Epoch:76:Batch: 100%|██████████| 11/11 [00:00<00:00, 20.96it/s]\n"
     ]
    },
    {
     "name": "stdout",
     "output_type": "stream",
     "text": [
      "\u001b[1m Losses and metrics of epoch 76: \u001b[0m\n",
      "\u001b[1mS0\u001b[0m: Pre-fit train-loss=0.2876214 |Eval-loss=0.4055344 |Eval metric R2=0.9107 |uncertainty=1.0000\n"
     ]
    },
    {
     "name": "stderr",
     "output_type": "stream",
     "text": [
      "Train_Epoch:77:Batch: 100%|██████████| 11/11 [00:00<00:00, 20.89it/s]\n",
      "Train_Epoch:78:Batch: 100%|██████████| 11/11 [00:00<00:00, 20.76it/s]\n",
      "Train_Epoch:79:Batch: 100%|██████████| 11/11 [00:00<00:00, 20.69it/s]\n",
      "Train_Epoch:80:Batch: 100%|██████████| 11/11 [00:00<00:00, 20.94it/s]\n",
      "Train_Epoch:81:Batch: 100%|██████████| 11/11 [00:00<00:00, 18.30it/s]\n"
     ]
    },
    {
     "name": "stdout",
     "output_type": "stream",
     "text": [
      "\u001b[1m Losses and metrics of epoch 81: \u001b[0m\n",
      "\u001b[1mS0\u001b[0m: Pre-fit train-loss=0.2525244 |Eval-loss=0.4691708 |Eval metric R2=0.8967 |uncertainty=1.0000\n",
      "No improvment after 30 ..stopping...\n",
      "Total Training Time: 1.39 min\n",
      "Best model is found at epoch 50\n"
     ]
    }
   ],
   "source": [
    "trainer.fit(train_dataloader=train_loader,test_dataloader=test_loader ,eval_every_epoch=1,nr_epochs=200)#,nr_gpus=-1)"
   ]
  },
  {
   "cell_type": "code",
   "execution_count": 26,
   "id": "efc3953a-4718-4442-aea1-533463954749",
   "metadata": {},
   "outputs": [
    {
     "name": "stdout",
     "output_type": "stream",
     "text": [
      "loading checkpoint from file: esol_run/train_logs/checkpoint_best_model.pt\n",
      "Model parameters are loaded from the checkpoint\n",
      "Optimizer parameters are loaded from the checkpoint\n",
      "Scheduler parameters are loaded from the checkpoint\n",
      "\u001b[1m Losses and metrics of epoch 50: \u001b[0m\n",
      "\u001b[1mS0\u001b[0m: Pre-fit train-loss=0.4739053 |Eval-loss=0.3688685 |Eval metric R2=0.9188 |uncertainty=1.0000\n"
     ]
    }
   ],
   "source": [
    "trainer.load_checkpoint(best_model=True)\n",
    "trainer.print_logs()"
   ]
  },
  {
   "cell_type": "code",
   "execution_count": 27,
   "id": "10439b3c-203c-440c-8707-11539887ed95",
   "metadata": {},
   "outputs": [
    {
     "name": "stdout",
     "output_type": "stream",
     "text": [
      "CPU times: user 31.6 ms, sys: 150 ms, total: 182 ms\n",
      "Wall time: 538 ms\n"
     ]
    }
   ],
   "source": [
    "%%time\n",
    "smiles=validation.SMILES\n",
    "out=model.predict( smiles, batch_size=200, convert_log10=True)"
   ]
  },
  {
   "cell_type": "code",
   "execution_count": 28,
   "id": "a7542c4f-a171-4955-8d90-4cead48b7e63",
   "metadata": {},
   "outputs": [],
   "source": [
    "y_true = validation['S0']\n",
    "y_pred = out['predicted_S0']"
   ]
  },
  {
   "cell_type": "code",
   "execution_count": 29,
   "id": "70407f51-a1f6-4553-98a6-0619b08c17ec",
   "metadata": {},
   "outputs": [
    {
     "data": {
      "text/plain": [
       "(0.6404890891615627, 0.9131564454525624)"
      ]
     },
     "execution_count": 29,
     "metadata": {},
     "output_type": "execute_result"
    }
   ],
   "source": [
    "def metric(y_pred,y):\n",
    "    rmse = mean_squared_error(y, y_pred ,squared=False)\n",
    "    r_2 = r2_score(y,y_pred)\n",
    "    return rmse, r_2\n",
    "metric(y_pred, y_true)"
   ]
  },
  {
   "cell_type": "code",
   "execution_count": 30,
   "id": "6b9d44d3-eed9-4de7-b903-5cacdd35653d",
   "metadata": {},
   "outputs": [],
   "source": [
    "y_true_SC2 = validation['S0']\n",
    "y_pred_SC2 = out['predicted_S0']"
   ]
  },
  {
   "cell_type": "code",
   "execution_count": 48,
   "id": "34785e26-ed19-48b8-9f5f-b5eb0f0927dd",
   "metadata": {},
   "outputs": [
    {
     "data": {
      "text/plain": [
       "Text(0, 0.5, 'y_pred')"
      ]
     },
     "execution_count": 48,
     "metadata": {},
     "output_type": "execute_result"
    },
    {
     "data": {
      "image/png": "[encoded data removed]",
      "text/plain": [
       "<Figure size 640x480 with 1 Axes>"
      ]
     },
     "metadata": {},
     "output_type": "display_data"
    }
   ],
   "source": [
    "plt.scatter(y_true, y_pred)\n",
    "plt.xlabel('y_true')\n",
    "plt.ylabel('y_pred')"
   ]
  },
  {
   "cell_type": "code",
   "execution_count": 40,
   "id": "74a6853f-fc02-46f6-a7d5-d7417f2ac91f",
   "metadata": {},
   "outputs": [
    {
     "name": "stdout",
     "output_type": "stream",
     "text": [
      "09/02/25\n"
     ]
    }
   ],
   "source": [
    "t = time.localtime()\n",
    "current_time = time.strftime(\"%D\", t)\n",
    "print(current_time)"
   ]
  },
  {
   "cell_type": "code",
   "execution_count": 56,
   "id": "ba867c3c-e8c8-4269-91b6-ff9ddffcce9e",
   "metadata": {},
   "outputs": [],
   "source": [
    "out={}\n",
    "out['date']= current_time\n",
    "out['model']= model\n",
    "out['model_state_dict']= model.state_dict()\n",
    "\n",
    "torch.save(out,  f'esol_single{seed}.pt')"
   ]
  }
 ],
 "metadata": {
  "kernelspec": {
   "display_name": "Python 3 (ipykernel)",
   "language": "python",
   "name": "python3"
  },
  "language_info": {
   "codemirror_mode": {
    "name": "ipython",
    "version": 3
   },
   "file_extension": ".py",
   "mimetype": "text/x-python",
   "name": "python",
   "nbconvert_exporter": "python",
   "pygments_lexer": "ipython3",
   "version": "3.9.18"
  }
 },
 "nbformat": 4,
 "nbformat_minor": 5
}
